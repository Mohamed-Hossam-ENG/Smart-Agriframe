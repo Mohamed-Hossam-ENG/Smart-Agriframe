{
  "nbformat": 4,
  "nbformat_minor": 0,
  "metadata": {
    "colab": {
      "provenance": [],
      "gpuType": "T4"
    },
    "kernelspec": {
      "name": "python3",
      "display_name": "Python 3"
    },
    "language_info": {
      "name": "python"
    },
    "accelerator": "GPU"
  },
  "cells": [
    {
      "cell_type": "code",
      "source": [
        "!pip install netCDF4"
      ],
      "metadata": {
        "colab": {
          "base_uri": "https://localhost:8080/"
        },
        "id": "mJJLha8NzdGQ",
        "outputId": "76f0b53c-9702-47d8-c0dc-8140aceda62b"
      },
      "execution_count": 1,
      "outputs": [
        {
          "output_type": "stream",
          "name": "stdout",
          "text": [
            "Requirement already satisfied: netCDF4 in /usr/local/lib/python3.10/dist-packages (1.7.1.post2)\n",
            "Requirement already satisfied: cftime in /usr/local/lib/python3.10/dist-packages (from netCDF4) (1.6.4)\n",
            "Requirement already satisfied: certifi in /usr/local/lib/python3.10/dist-packages (from netCDF4) (2024.8.30)\n",
            "Requirement already satisfied: numpy in /usr/local/lib/python3.10/dist-packages (from netCDF4) (1.26.4)\n"
          ]
        }
      ]
    },
    {
      "cell_type": "code",
      "execution_count": 1,
      "metadata": {
        "id": "xljuhTKQzbs7"
      },
      "outputs": [],
      "source": [
        "import netCDF4 as nc\n",
        "import numpy as np\n",
        "import pandas as pd\n",
        "import os\n",
        "from sklearn.preprocessing import MinMaxScaler\n",
        "from sklearn.model_selection import train_test_split\n",
        "import tensorflow as tf\n",
        "from tensorflow.keras.models import Sequential\n",
        "from tensorflow.keras.layers import Conv2D, BatchNormalization, Activation, Dropout\n",
        "import matplotlib.pyplot as plt\n",
        "from sklearn.impute import SimpleImputer\n",
        "from tensorflow.keras.layers import Flatten, Dense, Reshape\n",
        "from tensorflow.keras.optimizers import Adam\n",
        "from scipy.ndimage import zoom\n",
        "from sklearn.metrics import precision_score, recall_score, f1_score\n",
        "from tensorflow.keras.callbacks import Callback\n",
        "from sklearn.metrics import mean_squared_error, mean_absolute_error, r2_score\n",
        "from tensorflow.keras import mixed_precision\n",
        "from tensorflow.keras import backend as K"
      ]
    },
    {
      "cell_type": "code",
      "source": [
        "# Mount Google Drive\n",
        "from google.colab import drive\n",
        "drive.mount('/content/drive')"
      ],
      "metadata": {
        "colab": {
          "base_uri": "https://localhost:8080/"
        },
        "id": "rU3zAyOOYSyA",
        "outputId": "3a93f1ac-f256-44a7-8505-26cf8b930bc0"
      },
      "execution_count": 2,
      "outputs": [
        {
          "output_type": "stream",
          "name": "stdout",
          "text": [
            "Drive already mounted at /content/drive; to attempt to forcibly remount, call drive.mount(\"/content/drive\", force_remount=True).\n"
          ]
        }
      ]
    },
    {
      "cell_type": "code",
      "source": [
        "# Load the .nc4 file\n",
        "def load_nc4_files(file_paths, features, target):\n",
        "    X_list = []\n",
        "    y_list = []\n",
        "    for file_path in file_paths:\n",
        "        ds = nc.Dataset(file_path)\n",
        "        # Extract features and target from each file\n",
        "        feature_data = [ds.variables[feature][:] for feature in features]\n",
        "        X = np.stack(feature_data, axis=-1)\n",
        "        y = ds.variables[target][:]\n",
        "        X_list.append(X)\n",
        "        y_list.append(y)\n",
        "    # Concatenate all samples from different files into one array\n",
        "    X_all = np.concatenate(X_list, axis=0)\n",
        "    y_all = np.concatenate(y_list, axis=0)\n",
        "    return X_all, y_all\n",
        "# Example usage:\n",
        "file_paths = ['/content/drive/MyDrive/NASA_Data/GLDAS_NOAH025_3H.A20240628.0600.021.nc4', '/content/drive/MyDrive/NASA_Data/GLDAS_NOAH025_3H.A20240628.0900.021.nc4', '/content/drive/MyDrive/NASA_Data/GLDAS_NOAH025_3H.A20240628.1200.021.nc4', '/content/drive/MyDrive/NASA_Data/GLDAS_NOAH025_3H.A20240628.1500.021.nc4', '/content/drive/MyDrive/NASA_Data/GLDAS_NOAH025_3H.A20240628.1800.021.nc4', '/content/drive/MyDrive/NASA_Data/GLDAS_NOAH025_3H.A20240628.2100.021.nc4', '/content/drive/MyDrive/NASA_Data/GLDAS_NOAH025_3H.A20240629.0000.021.nc4', '/content/drive/MyDrive/NASA_Data/GLDAS_NOAH025_3H.A20240629.0300.021.nc4', '/content/drive/MyDrive/NASA_Data/GLDAS_NOAH025_3H.A20240629.0600.021.nc4', '/content/drive/MyDrive/NASA_Data/GLDAS_NOAH025_3H.A20240629.0900.021.nc4', '/content/drive/MyDrive/NASA_Data/GLDAS_NOAH025_3H.A20240629.1200.021.nc4', '/content/drive/MyDrive/NASA_Data/GLDAS_NOAH025_3H.A20240629.1500.021.nc4', '/content/drive/MyDrive/NASA_Data/GLDAS_NOAH025_3H.A20240629.1800.021.nc4', '/content/drive/MyDrive/NASA_Data/GLDAS_NOAH025_3H.A20240629.2100.021.nc4', '/content/drive/MyDrive/NASA_Data/GLDAS_NOAH025_3H.A20240630.0000.021.nc4', '/content/drive/MyDrive/NASA_Data/GLDAS_NOAH025_3H.A20240630.0300.021.nc4', '/content/drive/MyDrive/NASA_Data/GLDAS_NOAH025_3H.A20240630.0600.021.nc4', '/content/drive/MyDrive/NASA_Data/GLDAS_NOAH025_3H.A20240630.0900.021.nc4', '/content/drive/MyDrive/NASA_Data/GLDAS_NOAH025_3H.A20240630.1500.021.nc4']\n",
        "features = ['Rainf_tavg', 'Evap_tavg', 'Albedo_inst', 'Wind_f_inst', 'Snowf_tavg',\n",
        "            'Qle_tavg', 'Qh_tavg', 'SWdown_f_tavg', 'Tair_f_inst', 'LWdown_f_tavg', 'Rainf_f_tavg']\n",
        "target = 'SoilMoi0_10cm_inst'\n",
        "X, y = load_nc4_files(file_paths, features, target)"
      ],
      "metadata": {
        "id": "EYGmhbz9zj3c"
      },
      "execution_count": 3,
      "outputs": []
    },
    {
      "cell_type": "code",
      "source": [
        "# Handle missing data\n",
        "def handle_missing_data(X, strategy='mean'):\n",
        "    imputer = SimpleImputer(strategy=strategy)\n",
        "    num_samples, height, width, num_features = X.shape\n",
        "    X_reshaped = X.reshape(num_samples * height * width, num_features)\n",
        "    X_imputed = imputer.fit_transform(X_reshaped)\n",
        "    X_imputed = X_imputed.reshape(num_samples, height, width, num_features)\n",
        "    return X_imputed\n",
        "X = handle_missing_data(X)"
      ],
      "metadata": {
        "id": "556cEAlTNm1m"
      },
      "execution_count": 4,
      "outputs": []
    },
    {
      "cell_type": "code",
      "source": [
        "# Normalize X and y\n",
        "scaler = MinMaxScaler()\n",
        "num_samples, height, width, num_features = X.shape\n",
        "X_reshaped = X.reshape(num_samples * height * width, num_features)\n",
        "X_scaled = scaler.fit_transform(X_reshaped)\n",
        "X = X_scaled.reshape(num_samples, height, width, num_features)"
      ],
      "metadata": {
        "id": "o3VDigbMN6Wf"
      },
      "execution_count": 5,
      "outputs": []
    },
    {
      "cell_type": "code",
      "source": [
        "# Normalize y\n",
        "y = np.nan_to_num(y, nan=np.nanmean(y))\n",
        "y = y / np.max(y, axis=(1, 2), keepdims=True)"
      ],
      "metadata": {
        "id": "gco5zCNyOFUB"
      },
      "execution_count": 6,
      "outputs": []
    },
    {
      "cell_type": "code",
      "source": [
        "# Split the data\n",
        "X_train, X_test, y_train, y_test = train_test_split(X, y, test_size=0.2, random_state=42)"
      ],
      "metadata": {
        "id": "eoAsKfZDOHOr"
      },
      "execution_count": 52,
      "outputs": []
    },
    {
      "cell_type": "code",
      "source": [
        "X_train.shape"
      ],
      "metadata": {
        "colab": {
          "base_uri": "https://localhost:8080/"
        },
        "id": "j7zPtNpIUEX0",
        "outputId": "bb0d01c4-948d-472d-c1dc-716ac1764fb4"
      },
      "execution_count": 53,
      "outputs": [
        {
          "output_type": "execute_result",
          "data": {
            "text/plain": [
              "(15, 600, 1440, 11)"
            ]
          },
          "metadata": {},
          "execution_count": 53
        }
      ]
    },
    {
      "cell_type": "markdown",
      "source": [
        "## **Model**"
      ],
      "metadata": {
        "id": "EiYf6qoCTYTN"
      }
    },
    {
      "cell_type": "code",
      "source": [
        "mixed_precision.set_global_policy('mixed_float16')"
      ],
      "metadata": {
        "id": "Z_Z6-phKj4Xf"
      },
      "execution_count": 54,
      "outputs": []
    },
    {
      "cell_type": "code",
      "source": [
        "def resize_data(X, target_shape):\n",
        "    return np.array([zoom(x, (target_shape[0] / x.shape[0], target_shape[1] / x.shape[1], 1)) for x in X])\n",
        "\n",
        "def resize_grid(y, target_shape):\n",
        "    y_resized = []\n",
        "    for y_sample in y:\n",
        "        # Check if y_sample is scalar (1D), if so, expand to grid\n",
        "        if len(y_sample.shape) == 1 or np.isscalar(y_sample):\n",
        "            # Create a constant grid with scalar value\n",
        "            grid = np.full(target_shape, y_sample)\n",
        "            y_resized.append(grid)\n",
        "        else:\n",
        "            # If already a grid, just resize it\n",
        "            resized_grid = zoom(y_sample, (target_shape[0] / y_sample.shape[0], target_shape[1] / y_sample.shape[1]))\n",
        "            y_resized.append(resized_grid)\n",
        "    return np.array(y_resized)\n",
        "\n",
        "\n",
        "# Resize input data and target data to reduce memory consumption (e.g., 32x32)\n",
        "target_shape = (64, 64)\n",
        "X_train = resize_data(X_train, target_shape)\n",
        "X_test = resize_data(X_test, target_shape)\n",
        "# Resize target data (y_train and y_test)\n",
        "y_train = resize_grid(y_train, target_shape)\n",
        "y_test = resize_grid(y_test, target_shape)"
      ],
      "metadata": {
        "id": "JEE22gCToQDU"
      },
      "execution_count": 55,
      "outputs": []
    },
    {
      "cell_type": "code",
      "source": [
        "# Custom accuracy-like metric for regression: percentage error tolerance\n",
        "def custom_accuracy(y_true, y_pred):\n",
        "    tolerance = 0.2\n",
        "    y_true = K.cast(y_true, 'float32')\n",
        "    y_pred = K.cast(y_pred, 'float32')\n",
        "    diff = K.abs(y_true - y_pred)\n",
        "    return K.mean(K.less_equal(diff, tolerance))"
      ],
      "metadata": {
        "id": "5hGRUBrdrUKl"
      },
      "execution_count": 56,
      "outputs": []
    },
    {
      "cell_type": "code",
      "source": [
        "# Step 1: Build the CNN Model\n",
        "def build_cnn(input_shape):\n",
        "    model = Sequential()\n",
        "    # First Convolutional Layer\n",
        "    model.add(Conv2D(32, (3, 3), padding='same', input_shape=input_shape))\n",
        "    model.add(BatchNormalization())\n",
        "    model.add(Activation('relu'))\n",
        "    model.add(Dropout(0.3))  # Dropout layer to prevent overfitting\n",
        "    # Second Convolutional Layer\n",
        "    model.add(Conv2D(64, (3, 3), padding='same'))\n",
        "    model.add(BatchNormalization())\n",
        "    model.add(Activation('relu'))\n",
        "    model.add(Dropout(0.3))\n",
        "    # Third Convolutional Layer\n",
        "    model.add(Conv2D(128, (3, 3), padding='same'))\n",
        "    model.add(BatchNormalization())\n",
        "    model.add(Activation('relu'))\n",
        "    model.add(Dropout(0.3))\n",
        "    # Flatten the output before feeding it into Dense layers\n",
        "    model.add(Flatten())\n",
        "    # Fully Connected Layer\n",
        "    model.add(Dense(116, activation='relu'))\n",
        "    model.add(Dropout(0.3))  # Dropout layer to prevent overfitting\n",
        "\n",
        "    # Output Layer for Regression (1 neuron, no activation function for regression)\n",
        "    #model.add(Dense(1), activation='linear')\n",
        "    # Output Layer for Regression (reshaped to grid)\n",
        "    model.add(Dense(target_shape[0] * target_shape[1], activation='linear'))  # Output a flattened grid\n",
        "    model.add(Reshape(target_shape))  # Correctly pass the tuple (32, 32)\n",
        "    return model"
      ],
      "metadata": {
        "id": "xtnnlpZ6VJ3Y"
      },
      "execution_count": 57,
      "outputs": []
    },
    {
      "cell_type": "code",
      "source": [
        "# Simplified CNN Model\n",
        "def build_cnn(input_shape):\n",
        "    model = Sequential()\n",
        "    # First Convolutional Layer\n",
        "    model.add(Conv2D(32, (3, 3), padding='same', activation='relu', input_shape=input_shape))\n",
        "    # Second Convolutional Layer (reduced filters)\n",
        "    model.add(Conv2D(64, (3, 3), padding='same', activation='relu'))\n",
        "    # Flatten the output before feeding it into Dense layers\n",
        "    model.add(Flatten())\n",
        "    # Fully Connected Layer\n",
        "    model.add(Dense(64, activation='relu'))\n",
        "    # Output Layer for Regression (reshaped to grid)\n",
        "    model.add(Dense(target_shape[0] * target_shape[1], activation='linear'))\n",
        "    model.add(Reshape(target_shape))  # Reshape to match the target grid size\n",
        "    return model"
      ],
      "metadata": {
        "id": "gQu7lxll0tFT"
      },
      "execution_count": 58,
      "outputs": []
    },
    {
      "cell_type": "code",
      "source": [
        "class RegressionMetricsCallback(Callback):\n",
        "    def __init__(self, validation_data):\n",
        "        super().__init__()\n",
        "        self.validation_data = validation_data\n",
        "    def on_epoch_end(self, epoch, logs=None):\n",
        "        X_val, y_true = self.validation_data\n",
        "        # Predict continuous values for validation data\n",
        "        y_pred = self.model.predict(X_val)\n",
        "        # Calculate regression metrics\n",
        "        mse = mean_squared_error(y_true.flatten(), y_pred.flatten())\n",
        "        mae = mean_absolute_error(y_true.flatten(), y_pred.flatten())\n",
        "        r2 = r2_score(y_true.flatten(), y_pred.flatten())\n",
        "        print(f' - mse: {mse:.4f} - mae: {mae:.4f} - r2: {r2:.4f}')"
      ],
      "metadata": {
        "id": "zE4mSyFqge45"
      },
      "execution_count": 59,
      "outputs": []
    },
    {
      "cell_type": "code",
      "source": [
        "# Step 2: Compile the Model\n",
        "# Example of compiling the model for regression.\n",
        "def compile_cnn(model, learning_rate=0.001):\n",
        "    optimizer = tf.keras.optimizers.Adam(learning_rate=learning_rate)\n",
        "    model.compile(optimizer=optimizer, loss='mean_squared_error', metrics=['mae', custom_accuracy])\n",
        "    return model"
      ],
      "metadata": {
        "id": "MLmEldI8VPPa"
      },
      "execution_count": 60,
      "outputs": []
    },
    {
      "cell_type": "code",
      "source": [
        "# Step 3: Train the Model\n",
        "def train_cnn(model, X_train, y_train, X_val, y_val, epochs=50, batch_size=32):\n",
        "    metrics_callback = RegressionMetricsCallback(validation_data=(X_val, y_val))\n",
        "    history = model.fit(X_train, y_train,\n",
        "                        validation_data=(X_val, y_val),\n",
        "                        epochs=epochs,\n",
        "                        batch_size=batch_size,\n",
        "                        callbacks=[metrics_callback],\n",
        "                        verbose=1)\n",
        "    return history"
      ],
      "metadata": {
        "id": "uBxs0LHuVdJ9"
      },
      "execution_count": 61,
      "outputs": []
    },
    {
      "cell_type": "code",
      "source": [
        "# Step 4: Evaluate the Model\n",
        "def evaluate_cnn(model, X_test, y_test):\n",
        "    loss, mae, custom_accuracy = model.evaluate(X_test, y_test, verbose=1)\n",
        "    print(f\"Test Loss: {loss}\")\n",
        "    print(f\"Test MAE: {mae}\")\n",
        "    print(f\"Test Custom Accuracy: {custom_accuracy}\")\n",
        "    return loss, mae"
      ],
      "metadata": {
        "id": "dUb-fuKDVgXT"
      },
      "execution_count": 62,
      "outputs": []
    },
    {
      "cell_type": "code",
      "source": [
        "# Step 5: Visualize Training History\n",
        "def plot_training_history(history):\n",
        "    # Plot Training & Validation Loss\n",
        "    plt.figure(figsize=(12, 6))\n",
        "    plt.subplot(1, 2, 1)\n",
        "    plt.plot(history.history['loss'], label='Training Loss')\n",
        "    plt.plot(history.history['val_loss'], label='Validation Loss')\n",
        "    plt.title('Loss Over Epochs')\n",
        "    plt.xlabel('Epochs')\n",
        "    plt.ylabel('Loss')\n",
        "    plt.legend()\n",
        "\n",
        "    # Plot Training & Validation MAE\n",
        "    plt.subplot(1, 2, 2)\n",
        "    plt.plot(history.history['mae'], label='Training MAE')\n",
        "    plt.plot(history.history['val_mae'], label='Validation MAE')\n",
        "    plt.title('MAE Over Epochs')\n",
        "    plt.xlabel('Epochs')\n",
        "    plt.ylabel('Mean Absolute Error')\n",
        "    plt.legend()\n",
        "\n",
        "    plt.tight_layout()\n",
        "    plt.show()"
      ],
      "metadata": {
        "id": "T2U9JsugVkfh"
      },
      "execution_count": 63,
      "outputs": []
    },
    {
      "cell_type": "code",
      "source": [
        "# Step 6: Main Training and Evaluation Workflow\n",
        "def main():\n",
        "    # Assuming X_train, X_test, y_train, y_test are preprocessed and ready\n",
        "    input_shape = (X_train.shape[1], X_train.shape[2], X_train.shape[3])  # Height, Width, Num Features\n",
        "    # Build and compile the model\n",
        "    model = build_cnn(input_shape)\n",
        "    model = compile_cnn(model, learning_rate=0.001)\n",
        "    # Train the model\n",
        "    history = train_cnn(model, X_train, y_train, X_test, y_test, epochs=50, batch_size=4)\n",
        "    # Evaluate the model on the test set\n",
        "    evaluate_cnn(model, X_test, y_test)\n",
        "    # Plot training history\n",
        "    plot_training_history(history)\n",
        "    model.save('my_model.h5')"
      ],
      "metadata": {
        "id": "4tv97QgVTebX"
      },
      "execution_count": 64,
      "outputs": []
    },
    {
      "cell_type": "code",
      "source": [
        "# Run the main function to execute the workflow\n",
        "main()"
      ],
      "metadata": {
        "id": "7SR2QlNTVaMu",
        "colab": {
          "base_uri": "https://localhost:8080/",
          "height": 1000
        },
        "outputId": "213e989f-9521-4a1d-d3c0-b004fd039cc5"
      },
      "execution_count": 65,
      "outputs": [
        {
          "output_type": "stream",
          "name": "stdout",
          "text": [
            "Epoch 1/50\n"
          ]
        },
        {
          "output_type": "stream",
          "name": "stderr",
          "text": [
            "/usr/local/lib/python3.10/dist-packages/keras/src/layers/convolutional/base_conv.py:107: UserWarning: Do not pass an `input_shape`/`input_dim` argument to a layer. When using Sequential models, prefer using an `Input(shape)` object as the first layer in the model instead.\n",
            "  super().__init__(activity_regularizer=activity_regularizer, **kwargs)\n"
          ]
        },
        {
          "output_type": "stream",
          "name": "stdout",
          "text": [
            "\u001b[1m1/1\u001b[0m \u001b[32m━━━━━━━━━━━━━━━━━━━━\u001b[0m\u001b[37m\u001b[0m \u001b[1m0s\u001b[0m 144ms/step\n",
            " - mse: 7129.1719 - mae: 72.4305 - r2: -2.5571\n",
            "\u001b[1m4/4\u001b[0m \u001b[32m━━━━━━━━━━━━━━━━━━━━\u001b[0m\u001b[37m\u001b[0m \u001b[1m5s\u001b[0m 533ms/step - custom_accuracy: 0.0618 - loss: 7162.7583 - mae: 72.4767 - val_custom_accuracy: 0.0233 - val_loss: 7129.1724 - val_mae: 72.4372\n",
            "Epoch 2/50\n",
            "\u001b[1m1/1\u001b[0m \u001b[32m━━━━━━━━━━━━━━━━━━━━\u001b[0m\u001b[37m\u001b[0m \u001b[1m0s\u001b[0m 16ms/step\n",
            " - mse: 6546.3628 - mae: 69.9253 - r2: -2.2663\n",
            "\u001b[1m4/4\u001b[0m \u001b[32m━━━━━━━━━━━━━━━━━━━━\u001b[0m\u001b[37m\u001b[0m \u001b[1m0s\u001b[0m 39ms/step - custom_accuracy: 0.0194 - loss: 7029.5098 - mae: 72.0905 - val_custom_accuracy: 0.0151 - val_loss: 6546.3623 - val_mae: 69.9317\n",
            "Epoch 3/50\n",
            "\u001b[1m1/1\u001b[0m \u001b[32m━━━━━━━━━━━━━━━━━━━━\u001b[0m\u001b[37m\u001b[0m \u001b[1m0s\u001b[0m 20ms/step\n",
            " - mse: 4880.0366 - mae: 59.2321 - r2: -1.4349\n",
            "\u001b[1m4/4\u001b[0m \u001b[32m━━━━━━━━━━━━━━━━━━━━\u001b[0m\u001b[37m\u001b[0m \u001b[1m0s\u001b[0m 41ms/step - custom_accuracy: 0.0140 - loss: 6296.2310 - mae: 68.4208 - val_custom_accuracy: 0.0095 - val_loss: 4880.0366 - val_mae: 59.2388\n",
            "Epoch 4/50\n",
            "\u001b[1m1/1\u001b[0m \u001b[32m━━━━━━━━━━━━━━━━━━━━\u001b[0m\u001b[37m\u001b[0m \u001b[1m0s\u001b[0m 16ms/step\n",
            " - mse: 3009.8059 - mae: 40.0118 - r2: -0.5017\n",
            "\u001b[1m4/4\u001b[0m \u001b[32m━━━━━━━━━━━━━━━━━━━━\u001b[0m\u001b[37m\u001b[0m \u001b[1m0s\u001b[0m 40ms/step - custom_accuracy: 0.0090 - loss: 4065.4275 - mae: 51.2942 - val_custom_accuracy: 0.0100 - val_loss: 3009.8059 - val_mae: 40.0120\n",
            "Epoch 5/50\n",
            "\u001b[1m1/1\u001b[0m \u001b[32m━━━━━━━━━━━━━━━━━━━━\u001b[0m\u001b[37m\u001b[0m \u001b[1m0s\u001b[0m 20ms/step\n",
            " - mse: 905.5460 - mae: 20.0894 - r2: 0.5482\n",
            "\u001b[1m4/4\u001b[0m \u001b[32m━━━━━━━━━━━━━━━━━━━━\u001b[0m\u001b[37m\u001b[0m \u001b[1m0s\u001b[0m 44ms/step - custom_accuracy: 0.0102 - loss: 2389.6150 - mae: 34.3563 - val_custom_accuracy: 0.0071 - val_loss: 905.5461 - val_mae: 20.0952\n",
            "Epoch 6/50\n",
            "\u001b[1m1/1\u001b[0m \u001b[32m━━━━━━━━━━━━━━━━━━━━\u001b[0m\u001b[37m\u001b[0m \u001b[1m0s\u001b[0m 16ms/step\n",
            " - mse: 310.7314 - mae: 11.8027 - r2: 0.8450\n",
            "\u001b[1m4/4\u001b[0m \u001b[32m━━━━━━━━━━━━━━━━━━━━\u001b[0m\u001b[37m\u001b[0m \u001b[1m0s\u001b[0m 34ms/step - custom_accuracy: 0.0098 - loss: 791.7986 - mae: 19.1209 - val_custom_accuracy: 0.0159 - val_loss: 310.7315 - val_mae: 11.8030\n",
            "Epoch 7/50\n",
            "\u001b[1m1/1\u001b[0m \u001b[32m━━━━━━━━━━━━━━━━━━━━\u001b[0m\u001b[37m\u001b[0m \u001b[1m0s\u001b[0m 21ms/step\n",
            " - mse: 238.9953 - mae: 12.0740 - r2: 0.8808\n",
            "\u001b[1m4/4\u001b[0m \u001b[32m━━━━━━━━━━━━━━━━━━━━\u001b[0m\u001b[37m\u001b[0m \u001b[1m0s\u001b[0m 39ms/step - custom_accuracy: 0.0165 - loss: 340.3792 - mae: 13.0925 - val_custom_accuracy: 0.0203 - val_loss: 238.9953 - val_mae: 12.0724\n",
            "Epoch 8/50\n",
            "\u001b[1m1/1\u001b[0m \u001b[32m━━━━━━━━━━━━━━━━━━━━\u001b[0m\u001b[37m\u001b[0m \u001b[1m0s\u001b[0m 16ms/step\n",
            " - mse: 221.0667 - mae: 10.6589 - r2: 0.8897\n",
            "\u001b[1m4/4\u001b[0m \u001b[32m━━━━━━━━━━━━━━━━━━━━\u001b[0m\u001b[37m\u001b[0m \u001b[1m0s\u001b[0m 42ms/step - custom_accuracy: 0.0228 - loss: 217.9758 - mae: 11.1211 - val_custom_accuracy: 0.0296 - val_loss: 221.0667 - val_mae: 10.6628\n",
            "Epoch 9/50\n",
            "\u001b[1m1/1\u001b[0m \u001b[32m━━━━━━━━━━━━━━━━━━━━\u001b[0m\u001b[37m\u001b[0m \u001b[1m0s\u001b[0m 16ms/step\n",
            " - mse: 141.4998 - mae: 8.6355 - r2: 0.9294\n",
            "\u001b[1m4/4\u001b[0m \u001b[32m━━━━━━━━━━━━━━━━━━━━\u001b[0m\u001b[37m\u001b[0m \u001b[1m0s\u001b[0m 37ms/step - custom_accuracy: 0.0287 - loss: 181.2398 - mae: 9.6835 - val_custom_accuracy: 0.0359 - val_loss: 141.4998 - val_mae: 8.6317\n",
            "Epoch 10/50\n",
            "\u001b[1m1/1\u001b[0m \u001b[32m━━━━━━━━━━━━━━━━━━━━\u001b[0m\u001b[37m\u001b[0m \u001b[1m0s\u001b[0m 16ms/step\n",
            " - mse: 68.8996 - mae: 6.2492 - r2: 0.9656\n",
            "\u001b[1m4/4\u001b[0m \u001b[32m━━━━━━━━━━━━━━━━━━━━\u001b[0m\u001b[37m\u001b[0m \u001b[1m0s\u001b[0m 35ms/step - custom_accuracy: 0.0375 - loss: 130.1511 - mae: 8.1880 - val_custom_accuracy: 0.0344 - val_loss: 68.8996 - val_mae: 6.2523\n",
            "Epoch 11/50\n",
            "\u001b[1m1/1\u001b[0m \u001b[32m━━━━━━━━━━━━━━━━━━━━\u001b[0m\u001b[37m\u001b[0m \u001b[1m0s\u001b[0m 20ms/step\n",
            " - mse: 41.8835 - mae: 4.7388 - r2: 0.9791\n",
            "\u001b[1m4/4\u001b[0m \u001b[32m━━━━━━━━━━━━━━━━━━━━\u001b[0m\u001b[37m\u001b[0m \u001b[1m0s\u001b[0m 40ms/step - custom_accuracy: 0.0377 - loss: 73.7710 - mae: 6.5819 - val_custom_accuracy: 0.0573 - val_loss: 41.8835 - val_mae: 4.7410\n",
            "Epoch 12/50\n",
            "\u001b[1m1/1\u001b[0m \u001b[32m━━━━━━━━━━━━━━━━━━━━\u001b[0m\u001b[37m\u001b[0m \u001b[1m0s\u001b[0m 16ms/step\n",
            " - mse: 34.6529 - mae: 4.3422 - r2: 0.9827\n",
            "\u001b[1m4/4\u001b[0m \u001b[32m━━━━━━━━━━━━━━━━━━━━\u001b[0m\u001b[37m\u001b[0m \u001b[1m0s\u001b[0m 40ms/step - custom_accuracy: 0.0544 - loss: 42.0418 - mae: 4.7272 - val_custom_accuracy: 0.0603 - val_loss: 34.6529 - val_mae: 4.3396\n",
            "Epoch 13/50\n",
            "\u001b[1m1/1\u001b[0m \u001b[32m━━━━━━━━━━━━━━━━━━━━\u001b[0m\u001b[37m\u001b[0m \u001b[1m0s\u001b[0m 20ms/step\n",
            " - mse: 26.6262 - mae: 3.9264 - r2: 0.9867\n",
            "\u001b[1m4/4\u001b[0m \u001b[32m━━━━━━━━━━━━━━━━━━━━\u001b[0m\u001b[37m\u001b[0m \u001b[1m0s\u001b[0m 38ms/step - custom_accuracy: 0.0662 - loss: 28.3031 - mae: 3.8968 - val_custom_accuracy: 0.0728 - val_loss: 26.6262 - val_mae: 3.9309\n",
            "Epoch 14/50\n",
            "\u001b[1m1/1\u001b[0m \u001b[32m━━━━━━━━━━━━━━━━━━━━\u001b[0m\u001b[37m\u001b[0m \u001b[1m0s\u001b[0m 17ms/step\n",
            " - mse: 17.7061 - mae: 3.2706 - r2: 0.9912\n",
            "\u001b[1m4/4\u001b[0m \u001b[32m━━━━━━━━━━━━━━━━━━━━\u001b[0m\u001b[37m\u001b[0m \u001b[1m0s\u001b[0m 35ms/step - custom_accuracy: 0.0774 - loss: 21.1295 - mae: 3.4137 - val_custom_accuracy: 0.0757 - val_loss: 17.7061 - val_mae: 3.2669\n",
            "Epoch 15/50\n",
            "\u001b[1m1/1\u001b[0m \u001b[32m━━━━━━━━━━━━━━━━━━━━\u001b[0m\u001b[37m\u001b[0m \u001b[1m0s\u001b[0m 17ms/step\n",
            " - mse: 10.1803 - mae: 2.3413 - r2: 0.9949\n",
            "\u001b[1m4/4\u001b[0m \u001b[32m━━━━━━━━━━━━━━━━━━━━\u001b[0m\u001b[37m\u001b[0m \u001b[1m0s\u001b[0m 37ms/step - custom_accuracy: 0.0858 - loss: 15.0859 - mae: 2.9683 - val_custom_accuracy: 0.1184 - val_loss: 10.1803 - val_mae: 2.3446\n",
            "Epoch 16/50\n",
            "\u001b[1m1/1\u001b[0m \u001b[32m━━━━━━━━━━━━━━━━━━━━\u001b[0m\u001b[37m\u001b[0m \u001b[1m0s\u001b[0m 16ms/step\n",
            " - mse: 5.7508 - mae: 1.7622 - r2: 0.9971\n",
            "\u001b[1m4/4\u001b[0m \u001b[32m━━━━━━━━━━━━━━━━━━━━\u001b[0m\u001b[37m\u001b[0m \u001b[1m0s\u001b[0m 35ms/step - custom_accuracy: 0.1225 - loss: 9.9166 - mae: 2.3188 - val_custom_accuracy: 0.1417 - val_loss: 5.7508 - val_mae: 1.7599\n",
            "Epoch 17/50\n",
            "\u001b[1m1/1\u001b[0m \u001b[32m━━━━━━━━━━━━━━━━━━━━\u001b[0m\u001b[37m\u001b[0m \u001b[1m0s\u001b[0m 21ms/step\n",
            " - mse: 3.3943 - mae: 1.3258 - r2: 0.9983\n",
            "\u001b[1m4/4\u001b[0m \u001b[32m━━━━━━━━━━━━━━━━━━━━\u001b[0m\u001b[37m\u001b[0m \u001b[1m0s\u001b[0m 41ms/step - custom_accuracy: 0.1360 - loss: 6.1327 - mae: 1.8374 - val_custom_accuracy: 0.1736 - val_loss: 3.3943 - val_mae: 1.3275\n",
            "Epoch 18/50\n",
            "\u001b[1m1/1\u001b[0m \u001b[32m━━━━━━━━━━━━━━━━━━━━\u001b[0m\u001b[37m\u001b[0m \u001b[1m0s\u001b[0m 18ms/step\n",
            " - mse: 2.1921 - mae: 1.0616 - r2: 0.9989\n",
            "\u001b[1m4/4\u001b[0m \u001b[32m━━━━━━━━━━━━━━━━━━━━\u001b[0m\u001b[37m\u001b[0m \u001b[1m0s\u001b[0m 39ms/step - custom_accuracy: 0.1570 - loss: 3.8395 - mae: 1.4523 - val_custom_accuracy: 0.2072 - val_loss: 2.1921 - val_mae: 1.0620\n",
            "Epoch 19/50\n",
            "\u001b[1m1/1\u001b[0m \u001b[32m━━━━━━━━━━━━━━━━━━━━\u001b[0m\u001b[37m\u001b[0m \u001b[1m0s\u001b[0m 17ms/step\n",
            " - mse: 1.5150 - mae: 0.8915 - r2: 0.9992\n",
            "\u001b[1m4/4\u001b[0m \u001b[32m━━━━━━━━━━━━━━━━━━━━\u001b[0m\u001b[37m\u001b[0m \u001b[1m0s\u001b[0m 39ms/step - custom_accuracy: 0.2115 - loss: 2.4402 - mae: 1.1265 - val_custom_accuracy: 0.2286 - val_loss: 1.5150 - val_mae: 0.8904\n",
            "Epoch 20/50\n",
            "\u001b[1m1/1\u001b[0m \u001b[32m━━━━━━━━━━━━━━━━━━━━\u001b[0m\u001b[37m\u001b[0m \u001b[1m0s\u001b[0m 17ms/step\n",
            " - mse: 1.0408 - mae: 0.7448 - r2: 0.9995\n",
            "\u001b[1m4/4\u001b[0m \u001b[32m━━━━━━━━━━━━━━━━━━━━\u001b[0m\u001b[37m\u001b[0m \u001b[1m0s\u001b[0m 40ms/step - custom_accuracy: 0.2211 - loss: 1.5625 - mae: 0.9271 - val_custom_accuracy: 0.2874 - val_loss: 1.0408 - val_mae: 0.7472\n",
            "Epoch 21/50\n",
            "\u001b[1m1/1\u001b[0m \u001b[32m━━━━━━━━━━━━━━━━━━━━\u001b[0m\u001b[37m\u001b[0m \u001b[1m0s\u001b[0m 17ms/step\n",
            " - mse: 0.7325 - mae: 0.6366 - r2: 0.9996\n",
            "\u001b[1m4/4\u001b[0m \u001b[32m━━━━━━━━━━━━━━━━━━━━\u001b[0m\u001b[37m\u001b[0m \u001b[1m0s\u001b[0m 35ms/step - custom_accuracy: 0.2739 - loss: 1.0604 - mae: 0.7551 - val_custom_accuracy: 0.2646 - val_loss: 0.7325 - val_mae: 0.6339\n",
            "Epoch 22/50\n",
            "\u001b[1m1/1\u001b[0m \u001b[32m━━━━━━━━━━━━━━━━━━━━\u001b[0m\u001b[37m\u001b[0m \u001b[1m0s\u001b[0m 18ms/step\n",
            " - mse: 0.4999 - mae: 0.5186 - r2: 0.9998\n",
            "\u001b[1m4/4\u001b[0m \u001b[32m━━━━━━━━━━━━━━━━━━━━\u001b[0m\u001b[37m\u001b[0m \u001b[1m0s\u001b[0m 38ms/step - custom_accuracy: 0.2954 - loss: 0.7000 - mae: 0.6198 - val_custom_accuracy: 0.3638 - val_loss: 0.4999 - val_mae: 0.5211\n",
            "Epoch 23/50\n",
            "\u001b[1m1/1\u001b[0m \u001b[32m━━━━━━━━━━━━━━━━━━━━\u001b[0m\u001b[37m\u001b[0m \u001b[1m0s\u001b[0m 21ms/step\n",
            " - mse: 0.3649 - mae: 0.4519 - r2: 0.9998\n",
            "\u001b[1m4/4\u001b[0m \u001b[32m━━━━━━━━━━━━━━━━━━━━\u001b[0m\u001b[37m\u001b[0m \u001b[1m0s\u001b[0m 40ms/step - custom_accuracy: 0.3528 - loss: 0.4872 - mae: 0.5159 - val_custom_accuracy: 0.3782 - val_loss: 0.3649 - val_mae: 0.4486\n",
            "Epoch 24/50\n",
            "\u001b[1m1/1\u001b[0m \u001b[32m━━━━━━━━━━━━━━━━━━━━\u001b[0m\u001b[37m\u001b[0m \u001b[1m0s\u001b[0m 16ms/step\n",
            " - mse: 0.2361 - mae: 0.3604 - r2: 0.9999\n",
            "\u001b[1m4/4\u001b[0m \u001b[32m━━━━━━━━━━━━━━━━━━━━\u001b[0m\u001b[37m\u001b[0m \u001b[1m0s\u001b[0m 41ms/step - custom_accuracy: 0.4052 - loss: 0.3213 - mae: 0.4178 - val_custom_accuracy: 0.4119 - val_loss: 0.2361 - val_mae: 0.3629\n",
            "Epoch 25/50\n",
            "\u001b[1m1/1\u001b[0m \u001b[32m━━━━━━━━━━━━━━━━━━━━\u001b[0m\u001b[37m\u001b[0m \u001b[1m0s\u001b[0m 20ms/step\n",
            " - mse: 0.1532 - mae: 0.2896 - r2: 0.9999\n",
            "\u001b[1m4/4\u001b[0m \u001b[32m━━━━━━━━━━━━━━━━━━━━\u001b[0m\u001b[37m\u001b[0m \u001b[1m0s\u001b[0m 42ms/step - custom_accuracy: 0.4222 - loss: 0.2399 - mae: 0.3637 - val_custom_accuracy: 0.5114 - val_loss: 0.1532 - val_mae: 0.2865\n",
            "Epoch 26/50\n",
            "\u001b[1m1/1\u001b[0m \u001b[32m━━━━━━━━━━━━━━━━━━━━\u001b[0m\u001b[37m\u001b[0m \u001b[1m0s\u001b[0m 20ms/step\n",
            " - mse: 0.0853 - mae: 0.2136 - r2: 1.0000\n",
            "\u001b[1m4/4\u001b[0m \u001b[32m━━━━━━━━━━━━━━━━━━━━\u001b[0m\u001b[37m\u001b[0m \u001b[1m0s\u001b[0m 42ms/step - custom_accuracy: 0.4855 - loss: 0.1625 - mae: 0.2986 - val_custom_accuracy: 0.6078 - val_loss: 0.0853 - val_mae: 0.2139\n",
            "Epoch 27/50\n",
            "\u001b[1m1/1\u001b[0m \u001b[32m━━━━━━━━━━━━━━━━━━━━\u001b[0m\u001b[37m\u001b[0m \u001b[1m0s\u001b[0m 17ms/step\n",
            " - mse: 0.0573 - mae: 0.1763 - r2: 1.0000\n",
            "\u001b[1m4/4\u001b[0m \u001b[32m━━━━━━━━━━━━━━━━━━━━\u001b[0m\u001b[37m\u001b[0m \u001b[1m0s\u001b[0m 43ms/step - custom_accuracy: 0.5630 - loss: 0.1034 - mae: 0.2380 - val_custom_accuracy: 0.6835 - val_loss: 0.0573 - val_mae: 0.1750\n",
            "Epoch 28/50\n",
            "\u001b[1m1/1\u001b[0m \u001b[32m━━━━━━━━━━━━━━━━━━━━\u001b[0m\u001b[37m\u001b[0m \u001b[1m0s\u001b[0m 16ms/step\n",
            " - mse: 0.0405 - mae: 0.1485 - r2: 1.0000\n",
            "\u001b[1m4/4\u001b[0m \u001b[32m━━━━━━━━━━━━━━━━━━━━\u001b[0m\u001b[37m\u001b[0m \u001b[1m0s\u001b[0m 35ms/step - custom_accuracy: 0.6088 - loss: 0.0736 - mae: 0.2040 - val_custom_accuracy: 0.7466 - val_loss: 0.0405 - val_mae: 0.1468\n",
            "Epoch 29/50\n",
            "\u001b[1m1/1\u001b[0m \u001b[32m━━━━━━━━━━━━━━━━━━━━\u001b[0m\u001b[37m\u001b[0m \u001b[1m0s\u001b[0m 18ms/step\n",
            " - mse: 0.0285 - mae: 0.1236 - r2: 1.0000\n",
            "\u001b[1m4/4\u001b[0m \u001b[32m━━━━━━━━━━━━━━━━━━━━\u001b[0m\u001b[37m\u001b[0m \u001b[1m0s\u001b[0m 42ms/step - custom_accuracy: 0.6999 - loss: 0.0508 - mae: 0.1643 - val_custom_accuracy: 0.8091 - val_loss: 0.0285 - val_mae: 0.1233\n",
            "Epoch 30/50\n",
            "\u001b[1m1/1\u001b[0m \u001b[32m━━━━━━━━━━━━━━━━━━━━\u001b[0m\u001b[37m\u001b[0m \u001b[1m0s\u001b[0m 16ms/step\n",
            " - mse: 0.0231 - mae: 0.1126 - r2: 1.0000\n",
            "\u001b[1m4/4\u001b[0m \u001b[32m━━━━━━━━━━━━━━━━━━━━\u001b[0m\u001b[37m\u001b[0m \u001b[1m0s\u001b[0m 35ms/step - custom_accuracy: 0.7721 - loss: 0.0314 - mae: 0.1322 - val_custom_accuracy: 0.8483 - val_loss: 0.0231 - val_mae: 0.1100\n",
            "Epoch 31/50\n",
            "\u001b[1m1/1\u001b[0m \u001b[32m━━━━━━━━━━━━━━━━━━━━\u001b[0m\u001b[37m\u001b[0m \u001b[1m0s\u001b[0m 17ms/step\n",
            " - mse: 0.0233 - mae: 0.1126 - r2: 1.0000\n",
            "\u001b[1m4/4\u001b[0m \u001b[32m━━━━━━━━━━━━━━━━━━━━\u001b[0m\u001b[37m\u001b[0m \u001b[1m0s\u001b[0m 34ms/step - custom_accuracy: 0.7662 - loss: 0.0349 - mae: 0.1361 - val_custom_accuracy: 0.8155 - val_loss: 0.0233 - val_mae: 0.1150\n",
            "Epoch 32/50\n",
            "\u001b[1m1/1\u001b[0m \u001b[32m━━━━━━━━━━━━━━━━━━━━\u001b[0m\u001b[37m\u001b[0m \u001b[1m0s\u001b[0m 18ms/step\n",
            " - mse: 0.0363 - mae: 0.1480 - r2: 1.0000\n",
            "\u001b[1m4/4\u001b[0m \u001b[32m━━━━━━━━━━━━━━━━━━━━\u001b[0m\u001b[37m\u001b[0m \u001b[1m0s\u001b[0m 39ms/step - custom_accuracy: 0.7828 - loss: 0.0304 - mae: 0.1298 - val_custom_accuracy: 0.7233 - val_loss: 0.0363 - val_mae: 0.1421\n",
            "Epoch 33/50\n",
            "\u001b[1m1/1\u001b[0m \u001b[32m━━━━━━━━━━━━━━━━━━━━\u001b[0m\u001b[37m\u001b[0m \u001b[1m0s\u001b[0m 17ms/step\n",
            " - mse: 0.0239 - mae: 0.1176 - r2: 1.0000\n",
            "\u001b[1m4/4\u001b[0m \u001b[32m━━━━━━━━━━━━━━━━━━━━\u001b[0m\u001b[37m\u001b[0m \u001b[1m0s\u001b[0m 40ms/step - custom_accuracy: 0.7920 - loss: 0.0284 - mae: 0.1224 - val_custom_accuracy: 0.7991 - val_loss: 0.0239 - val_mae: 0.1223\n",
            "Epoch 34/50\n",
            "\u001b[1m1/1\u001b[0m \u001b[32m━━━━━━━━━━━━━━━━━━━━\u001b[0m\u001b[37m\u001b[0m \u001b[1m0s\u001b[0m 16ms/step\n",
            " - mse: 0.0601 - mae: 0.2011 - r2: 1.0000\n",
            "\u001b[1m4/4\u001b[0m \u001b[32m━━━━━━━━━━━━━━━━━━━━\u001b[0m\u001b[37m\u001b[0m \u001b[1m0s\u001b[0m 35ms/step - custom_accuracy: 0.7901 - loss: 0.0246 - mae: 0.1216 - val_custom_accuracy: 0.5221 - val_loss: 0.0601 - val_mae: 0.1946\n",
            "Epoch 35/50\n",
            "\u001b[1m1/1\u001b[0m \u001b[32m━━━━━━━━━━━━━━━━━━━━\u001b[0m\u001b[37m\u001b[0m \u001b[1m0s\u001b[0m 17ms/step\n",
            " - mse: 0.0385 - mae: 0.1573 - r2: 1.0000\n",
            "\u001b[1m4/4\u001b[0m \u001b[32m━━━━━━━━━━━━━━━━━━━━\u001b[0m\u001b[37m\u001b[0m \u001b[1m0s\u001b[0m 44ms/step - custom_accuracy: 0.6671 - loss: 0.0459 - mae: 0.1564 - val_custom_accuracy: 0.6722 - val_loss: 0.0385 - val_mae: 0.1636\n",
            "Epoch 36/50\n",
            "\u001b[1m1/1\u001b[0m \u001b[32m━━━━━━━━━━━━━━━━━━━━\u001b[0m\u001b[37m\u001b[0m \u001b[1m0s\u001b[0m 16ms/step\n",
            " - mse: 0.0423 - mae: 0.1671 - r2: 1.0000\n",
            "\u001b[1m4/4\u001b[0m \u001b[32m━━━━━━━━━━━━━━━━━━━━\u001b[0m\u001b[37m\u001b[0m \u001b[1m0s\u001b[0m 36ms/step - custom_accuracy: 0.6969 - loss: 0.0345 - mae: 0.1475 - val_custom_accuracy: 0.5972 - val_loss: 0.0423 - val_mae: 0.1606\n",
            "Epoch 37/50\n",
            "\u001b[1m1/1\u001b[0m \u001b[32m━━━━━━━━━━━━━━━━━━━━\u001b[0m\u001b[37m\u001b[0m \u001b[1m0s\u001b[0m 17ms/step\n",
            " - mse: 0.0140 - mae: 0.0854 - r2: 1.0000\n",
            "\u001b[1m4/4\u001b[0m \u001b[32m━━━━━━━━━━━━━━━━━━━━\u001b[0m\u001b[37m\u001b[0m \u001b[1m0s\u001b[0m 35ms/step - custom_accuracy: 0.7692 - loss: 0.0261 - mae: 0.1239 - val_custom_accuracy: 0.8594 - val_loss: 0.0140 - val_mae: 0.0893\n",
            "Epoch 38/50\n",
            "\u001b[1m1/1\u001b[0m \u001b[32m━━━━━━━━━━━━━━━━━━━━\u001b[0m\u001b[37m\u001b[0m \u001b[1m0s\u001b[0m 16ms/step\n",
            " - mse: 0.0060 - mae: 0.0585 - r2: 1.0000\n",
            "\u001b[1m4/4\u001b[0m \u001b[32m━━━━━━━━━━━━━━━━━━━━\u001b[0m\u001b[37m\u001b[0m \u001b[1m0s\u001b[0m 36ms/step - custom_accuracy: 0.7750 - loss: 0.0225 - mae: 0.1100 - val_custom_accuracy: 0.9997 - val_loss: 0.0060 - val_mae: 0.0557\n",
            "Epoch 39/50\n",
            "\u001b[1m1/1\u001b[0m \u001b[32m━━━━━━━━━━━━━━━━━━━━\u001b[0m\u001b[37m\u001b[0m \u001b[1m0s\u001b[0m 21ms/step\n",
            " - mse: 0.0121 - mae: 0.0837 - r2: 1.0000\n",
            "\u001b[1m4/4\u001b[0m \u001b[32m━━━━━━━━━━━━━━━━━━━━\u001b[0m\u001b[37m\u001b[0m \u001b[1m0s\u001b[0m 40ms/step - custom_accuracy: 0.8961 - loss: 0.0165 - mae: 0.0986 - val_custom_accuracy: 0.9694 - val_loss: 0.0121 - val_mae: 0.0786\n",
            "Epoch 40/50\n",
            "\u001b[1m1/1\u001b[0m \u001b[32m━━━━━━━━━━━━━━━━━━━━\u001b[0m\u001b[37m\u001b[0m \u001b[1m0s\u001b[0m 16ms/step\n",
            " - mse: 0.0073 - mae: 0.0616 - r2: 1.0000\n",
            "\u001b[1m4/4\u001b[0m \u001b[32m━━━━━━━━━━━━━━━━━━━━\u001b[0m\u001b[37m\u001b[0m \u001b[1m0s\u001b[0m 36ms/step - custom_accuracy: 0.9362 - loss: 0.0139 - mae: 0.0882 - val_custom_accuracy: 0.9927 - val_loss: 0.0073 - val_mae: 0.0629\n",
            "Epoch 41/50\n",
            "\u001b[1m1/1\u001b[0m \u001b[32m━━━━━━━━━━━━━━━━━━━━\u001b[0m\u001b[37m\u001b[0m \u001b[1m0s\u001b[0m 30ms/step\n",
            " - mse: 0.0061 - mae: 0.0606 - r2: 1.0000\n",
            "\u001b[1m4/4\u001b[0m \u001b[32m━━━━━━━━━━━━━━━━━━━━\u001b[0m\u001b[37m\u001b[0m \u001b[1m0s\u001b[0m 39ms/step - custom_accuracy: 0.9191 - loss: 0.0133 - mae: 0.0859 - val_custom_accuracy: 0.9999 - val_loss: 0.0061 - val_mae: 0.0573\n",
            "Epoch 42/50\n",
            "\u001b[1m1/1\u001b[0m \u001b[32m━━━━━━━━━━━━━━━━━━━━\u001b[0m\u001b[37m\u001b[0m \u001b[1m0s\u001b[0m 17ms/step\n",
            " - mse: 0.0073 - mae: 0.0697 - r2: 1.0000\n",
            "\u001b[1m4/4\u001b[0m \u001b[32m━━━━━━━━━━━━━━━━━━━━\u001b[0m\u001b[37m\u001b[0m \u001b[1m0s\u001b[0m 35ms/step - custom_accuracy: 0.9823 - loss: 0.0093 - mae: 0.0759 - val_custom_accuracy: 0.9989 - val_loss: 0.0073 - val_mae: 0.0664\n",
            "Epoch 43/50\n",
            "\u001b[1m1/1\u001b[0m \u001b[32m━━━━━━━━━━━━━━━━━━━━\u001b[0m\u001b[37m\u001b[0m \u001b[1m0s\u001b[0m 25ms/step\n",
            " - mse: 0.0075 - mae: 0.0635 - r2: 1.0000\n",
            "\u001b[1m4/4\u001b[0m \u001b[32m━━━━━━━━━━━━━━━━━━━━\u001b[0m\u001b[37m\u001b[0m \u001b[1m0s\u001b[0m 55ms/step - custom_accuracy: 0.9864 - loss: 0.0103 - mae: 0.0769 - val_custom_accuracy: 0.9956 - val_loss: 0.0075 - val_mae: 0.0661\n",
            "Epoch 44/50\n",
            "\u001b[1m1/1\u001b[0m \u001b[32m━━━━━━━━━━━━━━━━━━━━\u001b[0m\u001b[37m\u001b[0m \u001b[1m0s\u001b[0m 24ms/step\n",
            " - mse: 0.0211 - mae: 0.1097 - r2: 1.0000\n",
            "\u001b[1m4/4\u001b[0m \u001b[32m━━━━━━━━━━━━━━━━━━━━\u001b[0m\u001b[37m\u001b[0m \u001b[1m0s\u001b[0m 59ms/step - custom_accuracy: 0.8707 - loss: 0.0107 - mae: 0.0676 - val_custom_accuracy: 0.8400 - val_loss: 0.0211 - val_mae: 0.1032\n",
            "Epoch 45/50\n",
            "\u001b[1m1/1\u001b[0m \u001b[32m━━━━━━━━━━━━━━━━━━━━\u001b[0m\u001b[37m\u001b[0m \u001b[1m0s\u001b[0m 23ms/step\n",
            " - mse: 0.0137 - mae: 0.0827 - r2: 1.0000\n",
            "\u001b[1m4/4\u001b[0m \u001b[32m━━━━━━━━━━━━━━━━━━━━\u001b[0m\u001b[37m\u001b[0m \u001b[1m0s\u001b[0m 48ms/step - custom_accuracy: 0.9185 - loss: 0.0125 - mae: 0.0714 - val_custom_accuracy: 0.8336 - val_loss: 0.0137 - val_mae: 0.0860\n",
            "Epoch 46/50\n",
            "\u001b[1m1/1\u001b[0m \u001b[32m━━━━━━━━━━━━━━━━━━━━\u001b[0m\u001b[37m\u001b[0m \u001b[1m0s\u001b[0m 26ms/step\n",
            " - mse: 0.0055 - mae: 0.0533 - r2: 1.0000\n",
            "\u001b[1m4/4\u001b[0m \u001b[32m━━━━━━━━━━━━━━━━━━━━\u001b[0m\u001b[37m\u001b[0m \u001b[1m0s\u001b[0m 50ms/step - custom_accuracy: 0.8239 - loss: 0.0201 - mae: 0.1063 - val_custom_accuracy: 1.0000 - val_loss: 0.0055 - val_mae: 0.0499\n",
            "Epoch 47/50\n",
            "\u001b[1m1/1\u001b[0m \u001b[32m━━━━━━━━━━━━━━━━━━━━\u001b[0m\u001b[37m\u001b[0m \u001b[1m0s\u001b[0m 27ms/step\n",
            " - mse: 0.0360 - mae: 0.1520 - r2: 1.0000\n",
            "\u001b[1m4/4\u001b[0m \u001b[32m━━━━━━━━━━━━━━━━━━━━\u001b[0m\u001b[37m\u001b[0m \u001b[1m0s\u001b[0m 56ms/step - custom_accuracy: 0.8448 - loss: 0.0175 - mae: 0.0997 - val_custom_accuracy: 0.7050 - val_loss: 0.0360 - val_mae: 0.1455\n",
            "Epoch 48/50\n",
            "\u001b[1m1/1\u001b[0m \u001b[32m━━━━━━━━━━━━━━━━━━━━\u001b[0m\u001b[37m\u001b[0m \u001b[1m0s\u001b[0m 26ms/step\n",
            " - mse: 0.0124 - mae: 0.0779 - r2: 1.0000\n",
            "\u001b[1m4/4\u001b[0m \u001b[32m━━━━━━━━━━━━━━━━━━━━\u001b[0m\u001b[37m\u001b[0m \u001b[1m0s\u001b[0m 54ms/step - custom_accuracy: 0.7694 - loss: 0.0304 - mae: 0.1294 - val_custom_accuracy: 0.8638 - val_loss: 0.0124 - val_mae: 0.0811\n",
            "Epoch 49/50\n",
            "\u001b[1m1/1\u001b[0m \u001b[32m━━━━━━━━━━━━━━━━━━━━\u001b[0m\u001b[37m\u001b[0m \u001b[1m0s\u001b[0m 23ms/step\n",
            " - mse: 0.0251 - mae: 0.1258 - r2: 1.0000\n",
            "\u001b[1m4/4\u001b[0m \u001b[32m━━━━━━━━━━━━━━━━━━━━\u001b[0m\u001b[37m\u001b[0m \u001b[1m0s\u001b[0m 53ms/step - custom_accuracy: 0.9827 - loss: 0.0065 - mae: 0.0578 - val_custom_accuracy: 0.8074 - val_loss: 0.0251 - val_mae: 0.1193\n",
            "Epoch 50/50\n",
            "\u001b[1m1/1\u001b[0m \u001b[32m━━━━━━━━━━━━━━━━━━━━\u001b[0m\u001b[37m\u001b[0m \u001b[1m0s\u001b[0m 27ms/step\n",
            " - mse: 0.0150 - mae: 0.0901 - r2: 1.0000\n",
            "\u001b[1m4/4\u001b[0m \u001b[32m━━━━━━━━━━━━━━━━━━━━\u001b[0m\u001b[37m\u001b[0m \u001b[1m0s\u001b[0m 54ms/step - custom_accuracy: 0.8509 - loss: 0.0188 - mae: 0.0955 - val_custom_accuracy: 0.8210 - val_loss: 0.0150 - val_mae: 0.0942\n",
            "\u001b[1m1/1\u001b[0m \u001b[32m━━━━━━━━━━━━━━━━━━━━\u001b[0m\u001b[37m\u001b[0m \u001b[1m1s\u001b[0m 724ms/step - custom_accuracy: 0.8210 - loss: 0.0150 - mae: 0.0942\n",
            "Test Loss: 0.015045137144625187\n",
            "Test MAE: 0.09420997649431229\n",
            "Test Custom Accuracy: 0.82098388671875\n"
          ]
        },
        {
          "output_type": "display_data",
          "data": {
            "text/plain": [
              "<Figure size 1200x600 with 2 Axes>"
            ],
            "image/png": "[encoded data removed]"
          },
          "metadata": {}
        },
        {
          "output_type": "stream",
          "name": "stderr",
          "text": [
            "WARNING:absl:You are saving your model as an HDF5 file via `model.save()` or `keras.saving.save_model(model)`. This file format is considered legacy. We recommend using instead the native Keras format, e.g. `model.save('my_model.keras')` or `keras.saving.save_model(model, 'my_model.keras')`. \n"
          ]
        }
      ]
    },
    {
      "cell_type": "code",
      "source": [],
      "metadata": {
        "id": "xNYPOk_I1GkX"
      },
      "execution_count": null,
      "outputs": []
    }
  ]
}